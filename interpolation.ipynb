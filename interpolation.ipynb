{
 "cells": [
  {
   "cell_type": "markdown",
   "metadata": {},
   "source": [
    "## Preenchendo dados faltantes\n",
    "\n",
    "> Neste notebook apresentamos um algoritmo simples para preenchimento de \"buracos\" em séries temporais. Aqui nós consideramos buracos como regiões dentro da série que não possuem dados, ou possuem valores \"*nan*\" (not a number). Os valores zerados foram considerados com tendo sua significância semântica para o sistema (falta d'agua, por exemplo) e, portanto, não foram considerados como dados faltantes da série. A técnica utilizada de interpolação foi a linear.\n",
    "\n",
    "**Long story short**: Buscamos na série os intervalos (s1, s2) faltantes ou com valores *nan*, geramos os índices para esses valores faltantes, preenchemos esses novos valores (entre s1 e s2) com uma interpolação linear, salvamos esta nova série. \n"
   ]
  },
  {
   "cell_type": "code",
   "execution_count": null,
   "metadata": {},
   "outputs": [],
   "source": [
    "# Imports\n",
    "%matplotlib inline\n",
    "from statsmodels.tsa.arima_model import ARIMA\n",
    "import pandas\n",
    "import matplotlib.pyplot as plt\n",
    "import datetime\n",
    "import os\n",
    "import glob\n",
    "import random\n",
    "\n",
    "import numpy as np"
   ]
  },
  {
   "cell_type": "markdown",
   "metadata": {},
   "source": [
    "# Funções "
   ]
  },
  {
   "cell_type": "code",
   "execution_count": 250,
   "metadata": {},
   "outputs": [],
   "source": [
    "\n",
    "def get_label(score):\n",
    "    \n",
    "    if score < 0.10:\n",
    "        return ('A', 'b')\n",
    "    elif score >= 0.10 and score < 0.3: \n",
    "        return ('B','darkcyan')\n",
    "    elif score >= 0.30 and score < 0.5: \n",
    "        return ('C', 'y')\n",
    "    elif score >= 0.50 and score < 0.7:\n",
    "        return ('D','lightcoral')\n",
    "    else:\n",
    "        return ('E','r')\n",
    "\n",
    "def fill_missing_data(dataframe, granularity, method='linear', interpolate=True):\n",
    "    # column names\n",
    "    columns = dataframe.keys()\n",
    "    \n",
    "    dates = dataframe[columns[0]]\n",
    "    prev = dates[0]\n",
    "    time = []\n",
    "    data = []\n",
    "    missing_data=0\n",
    "\n",
    "    for index in range(1, len(dates)-1):\n",
    "        diff = dates[index] - prev\n",
    "        prev = dates[index]\n",
    "\n",
    "\n",
    "        if not diff.total_seconds() == granularity:\n",
    "            total_steps = diff.total_seconds()\n",
    "            new_data = [[dates[index] - datetime.timedelta(seconds=x),np.nan] for x in range(int(granularity), int(total_steps),int(granularity))]\n",
    "            \n",
    "            # incrementando a quantidade de dados faltantes\n",
    "            missing_data+= len(new_data)\n",
    "            \n",
    "            new_data.reverse()\n",
    "            for item in new_data:\n",
    "                time.append(item[0])\n",
    "                data.append(item[1])\n",
    "\n",
    "        time.append(prev)\n",
    "        data.append(dataframe[columns[1]][index])\n",
    "    \n",
    "    # calcular score da serie\n",
    "    score = missing_data/len(data)\n",
    "    print(score)\n",
    "    label = get_label(score)\n",
    "    \n",
    "    columns = ['time', 'data']\n",
    "    newDataframe = pandas.DataFrame(columns=columns)\n",
    "    \n",
    "    newDataframe.time = time\n",
    "    newDataframe.data = data\n",
    "    \n",
    "    newDataframe.set_index('time')\n",
    "    newDataframe.sort_values(by='time')\n",
    "    if interpolate:\n",
    "        newDataframe = newDataframe.interpolate(method=method)\n",
    "    \n",
    "    return newDataframe, label\n",
    "\n",
    "\n",
    "def get_granularity(dataframe):\n",
    "    # column names\n",
    "    columns = dataframe.keys()\n",
    "    \n",
    "    dates = dataframe[columns[0]]\n",
    "    prev = dates[0]\n",
    "    diffs_counter=dict()\n",
    "\n",
    "    for index in range(1, len(dates)-1):\n",
    "        diff = dates[index] - prev\n",
    "        prev = dates[index]\n",
    "\n",
    "        if diff.total_seconds() not in diffs_counter.keys():\n",
    "            diffs_counter[diff.total_seconds()]=1\n",
    "        else:\n",
    "            diffs_counter[diff.total_seconds()]+=1\n",
    "    \n",
    "    common_diff = list(diffs_counter)[(np.argmax(diffs_counter))]\n",
    "    \n",
    "    return common_diff\n",
    "    \n",
    "\n",
    "\n",
    "def smooth(x, window_len=10, window='hanning'):    \n",
    "    if x.ndim != 1:\n",
    "        raise ValueError(\"smooth only accepts 1 dimension arrays.\")\n",
    "\n",
    "    if x.size < window_len:\n",
    "        raise ValueError(\"Input vector needs to be bigger than window size.\")\n",
    "\n",
    "    if window_len < 3:\n",
    "        return x\n",
    "\n",
    "    s=np.r_[2*x[0]-x[window_len:1:-1], x, 2*x[-1]-x[-1:-window_len:-1]]\n",
    "    #print(len(s))\n",
    "\n",
    "    if window == 'flat': #moving average\n",
    "        w = np.ones(window_len,'d')\n",
    "    else:\n",
    "        w = getattr(np, window)(window_len)\n",
    "    y = np.convolve(w/w.sum(), s, mode='same')\n",
    "    return y[window_len-1:-window_len+1]\n"
   ]
  },
  {
   "cell_type": "code",
   "execution_count": null,
   "metadata": {},
   "outputs": [],
   "source": [
    "output_csv = 'filteredDataframe.csv' \n",
    "\n",
    "# loading dataset\n",
    "dataframe = pandas.read_csv('../dados/00010391_GLE_CABIL_2P1F_FLOW.csv', engine='python', header=0)\n",
    "dataframe.head()"
   ]
  },
  {
   "cell_type": "code",
   "execution_count": null,
   "metadata": {},
   "outputs": [],
   "source": [
    "dataframe.plot(figsize=(18,6))"
   ]
  },
  {
   "cell_type": "code",
   "execution_count": null,
   "metadata": {},
   "outputs": [],
   "source": [
    "# columns = dataframe.keys()\n",
    "# df = dataframe[dataframe.data > 0.0]\n",
    "# test = df[columns[1]].rolling(20, min_periods=2).mean()\n",
    "# plt.figure(figsize=(18,6))\n",
    "# plt.plot(test)\n",
    "# plt.show()"
   ]
  },
  {
   "cell_type": "code",
   "execution_count": null,
   "metadata": {},
   "outputs": [],
   "source": [
    "# column names\n",
    "columns = dataframe.keys()\n",
    "\n",
    "# converting to datetime\n",
    "dataframe[columns[0]]= pandas.to_datetime(dataframe[columns[0]])\n",
    "\n",
    "granularity     = get_granularity(dataframe)\n",
    "preprocessed_df,label = fill_missing_data(dataframe, granularity)\n",
    "\n",
    "plt.figure(figsize=(18,6))\n",
    "plt.plot(preprocessed_df.data.values)\n",
    "plt.show()\n",
    "# saving the new dataset\n",
    "#preprocessed_df.to_csv(output_csv)"
   ]
  },
  {
   "cell_type": "markdown",
   "metadata": {},
   "source": [
    "# Extendendo para todas as series"
   ]
  },
  {
   "cell_type": "markdown",
   "metadata": {},
   "source": [
    " Aqui nós aplicamos a técnica de preenchimento de buracos para todas as séries existentes. \n",
    " \n",
    " > Obs.: Só execute esta célula 1x, pois os resultados são salvos em um novo arquivo .csv com a série transformada"
   ]
  },
  {
   "cell_type": "code",
   "execution_count": null,
   "metadata": {},
   "outputs": [],
   "source": [
    "basefolder = '../dados/'\n",
    "data = glob.glob(basefolder + '*.csv')\n",
    "\n",
    "for filename in data:\n",
    "    print(\"processando : \", filename)\n",
    "    outputname = os.path.basename(filename) + '_filtered.csv'\n",
    "    \n",
    "    # loading dataset\n",
    "    dataframe = pandas.read_csv(filename, engine='python', header=0)\n",
    "    \n",
    "    # column names\n",
    "    columns = dataframe.keys()\n",
    "\n",
    "    # converting to datetime\n",
    "    dataframe[columns[0]] = pandas.to_datetime(dataframe[columns[0]])\n",
    "\n",
    "    granularity     = get_granularity(dataframe)\n",
    "    preprocessed_df, score = fill_missing_data(dataframe, granularity)\n",
    "\n",
    "    # salvando o resultado em um novo csv\n",
    "    preprocessed_df.to_csv(outputname)\n",
    "    "
   ]
  },
  {
   "cell_type": "markdown",
   "metadata": {},
   "source": [
    "# Antes x depois"
   ]
  },
  {
   "cell_type": "markdown",
   "metadata": {},
   "source": [
    "Após realizar a interpolação linear para cobrir os \"buracos\" nas séries, vamos analisar o efeito desse completamento observando a série original e após realizar o preenchimento. Note que os buracos não aparecem na série original, pois são datas que não estão nas medições, mas deveriam estar, seguindo a ordem cronológica."
   ]
  },
  {
   "cell_type": "code",
   "execution_count": null,
   "metadata": {},
   "outputs": [],
   "source": [
    "basefolder = '../dados/'\n",
    "data = glob.glob(basefolder + '*.csv')\n",
    "\n",
    "for filename in data:\n",
    "    # original\n",
    "    original_df = pandas.read_csv(filename, engine='python', header=0)\n",
    "    plt.figure(figsize=(18,6))\n",
    "    plt.title('Antes')\n",
    "    plt.plot(original_df.data.values)\n",
    "    \n",
    "    # serie com dados faltantes completados\n",
    "    filename = os.path.basename(filename) + '_filtered.csv'\n",
    "\n",
    "    df = pandas.read_csv(filename, engine='python', header=0)\n",
    "    plt.figure(figsize=(18,6))\n",
    "    plt.title('Depois')\n",
    "    plt.plot(df.data.values, color='royalblue')\n",
    "    \n",
    "    plt.show()\n",
    "    "
   ]
  },
  {
   "cell_type": "markdown",
   "metadata": {},
   "source": [
    "# Suavização das series"
   ]
  },
  {
   "cell_type": "markdown",
   "metadata": {},
   "source": [
    " Aqui nós selecionamos os realizamos a suavização das séries através\n",
    " de uma convolução 1d. O resultados, para melhor visualização, são \n",
    " apresentados nos primeiros 500 pontos iniciais de cada série."
   ]
  },
  {
   "cell_type": "code",
   "execution_count": null,
   "metadata": {},
   "outputs": [],
   "source": [
    "basefolder = '../dados/'\n",
    "data = glob.glob(basefolder + '*.csv')\n",
    "\n",
    "for filename in data:\n",
    "    print(\"processando : \", filename)\n",
    "    \n",
    "    # loading dataset\n",
    "    dataframe   = pandas.read_csv(filename, engine='python', header=0)\n",
    "    dataframe.iloc[:500,1].plot(title='original',figsize=(18,6))\n",
    "    plt.show()\n",
    "    keys = dataframe.keys()\n",
    "    \n",
    "    data_values = dataframe[keys[1]].values\n",
    "    smooth_data = smooth(data_values,window_len=10)\n",
    "    \n",
    "    plt.figure(figsize=(18,6))\n",
    "    plt.title(\"suavizada\")\n",
    "    plt.plot(smooth_data[:500], color='midnightblue' )\n",
    "    plt.show()\n",
    "\n",
    "    \n",
    "    "
   ]
  },
  {
   "cell_type": "markdown",
   "metadata": {},
   "source": [
    "# Visualizando as séries com seu label\n",
    "\n",
    "Este label é calculado baseado na quantidade de dados faltantes na serie"
   ]
  },
  {
   "cell_type": "markdown",
   "metadata": {},
   "source": []
  },
  {
   "cell_type": "code",
   "execution_count": null,
   "metadata": {},
   "outputs": [],
   "source": [
    "basefolder = '../dados/'\n",
    "data = glob.glob(basefolder + '*.csv')\n",
    "\n",
    "for filename in data:\n",
    "    print(\"processando : \", filename)\n",
    "    outputname = os.path.basename(filename) + '_filtered.csv'\n",
    "    \n",
    "    # loading dataset\n",
    "    dataframe = pandas.read_csv(filename, engine='python', header=0)\n",
    "    \n",
    "    # column names\n",
    "    columns = dataframe.keys()\n",
    "\n",
    "    # converting to datetime\n",
    "    dataframe[columns[0]] = pandas.to_datetime(dataframe[columns[0]])\n",
    "\n",
    "    granularity     = get_granularity(dataframe)\n",
    "    preprocessed_df, label = fill_missing_data(dataframe, granularity)\n",
    "    preprocessed_df[columns[1]]     = smooth(preprocessed_df[columns[1]].values,window_len=10)\n",
    "    plt.figure(figsize=(18,6))\n",
    "    plt.title(filename+ \" - Label=\"+str(label[0]))\n",
    "    plt.plot(preprocessed_df.data.values, color=label[1])\n",
    "    \n",
    "    plt.show()\n",
    "    \n",
    "    "
   ]
  },
  {
   "cell_type": "markdown",
   "metadata": {},
   "source": [
    "## Análise dos métodos de interpolação"
   ]
  },
  {
   "cell_type": "code",
   "execution_count": null,
   "metadata": {},
   "outputs": [],
   "source": [
    "basefolder = '../dados/'\n",
    "methods=['linear', 'index', 'values', 'nearest', 'zero', \n",
    "        'slinear', 'quadratic', 'cubic', 'barycentric']\n",
    "data = glob.glob(basefolder + '*.csv')\n",
    "filename = data[random.randint(0, len(data))]\n",
    "\n",
    "print(\"processando : \", filename)\n",
    "\n",
    "# loading dataset\n",
    "dataframe = pandas.read_csv(filename, engine='python', header=0)\n",
    "\n",
    "# column names\n",
    "columns = dataframe.keys()\n",
    "\n",
    "# converting to datetime\n",
    "dataframe[columns[0]] = pandas.to_datetime(dataframe[columns[0]])\n",
    "\n",
    "granularity     = get_granularity(dataframe)\n",
    "for method in methods:\n",
    "    preprocessed_df, score = fill_missing_data(dataframe, granularity, method)\n",
    "    \n",
    "    plt.figure(figsize=(18,6))\n",
    "    plt.plot(preprocessed_df.data.values,label=method)\n",
    "    plt.legend()\n",
    "    \n",
    "    plt.show()\n",
    "    \n"
   ]
  },
  {
   "cell_type": "markdown",
   "metadata": {},
   "source": [
    "# (1) Preenchendo com a media"
   ]
  },
  {
   "cell_type": "code",
   "execution_count": null,
   "metadata": {},
   "outputs": [],
   "source": [
    "df = pandas.read_csv('../dados/00010391_GLE_CABIL_2P1F_FLOW.csv', engine='python', header=0)\n",
    "# column names\n",
    "columns = df.keys()\n",
    "\n",
    "df[columns[0]] = pandas.to_datetime(df[columns[0]])\n",
    "granularity     = get_granularity(df)\n",
    "preprocessed_df, label = fill_missing_data(df, granularity, interpolate=False)\n",
    "\n",
    "preprocessed_df['data'].replace(0, np.nan, inplace= True)\n",
    "\n",
    "\n",
    "mean_value=preprocessed_df['data'].mean()\n",
    "preprocessed_df['data']=preprocessed_df['data'].fillna(mean_value)\n",
    "\n",
    "plt.figure(figsize=(18,6))\n",
    "plt.plot(preprocessed_df.data)\n",
    "plt.show()"
   ]
  },
  {
   "cell_type": "markdown",
   "metadata": {},
   "source": [
    "# (2) Forward Fill"
   ]
  },
  {
   "cell_type": "code",
   "execution_count": null,
   "metadata": {},
   "outputs": [],
   "source": [
    "granularity     = get_granularity(df)\n",
    "preprocessed_df, label = fill_missing_data(df, granularity, interpolate=False)\n",
    "\n",
    "preprocessed_df['data'].replace(0, np.nan, inplace= True)\n",
    "# forward fill\n",
    "preprocessed_df = preprocessed_df.fillna(method='ffill')\n",
    "\n",
    "plt.figure(figsize=(18,6))\n",
    "plt.plot(preprocessed_df.data)\n",
    "plt.show()"
   ]
  },
  {
   "cell_type": "markdown",
   "metadata": {},
   "source": [
    "# (3) Backward Fill"
   ]
  },
  {
   "cell_type": "code",
   "execution_count": null,
   "metadata": {},
   "outputs": [],
   "source": [
    "granularity     = get_granularity(df)\n",
    "preprocessed_df, label = fill_missing_data(df, granularity, interpolate=False)\n",
    "\n",
    "preprocessed_df['data'].replace(0, np.nan, inplace= True)\n",
    "# forward fill\n",
    "preprocessed_df = preprocessed_df.fillna(method='bfill')\n",
    "\n",
    "plt.figure(figsize=(18,6))\n",
    "plt.plot(preprocessed_df.data)\n",
    "plt.show()"
   ]
  },
  {
   "cell_type": "markdown",
   "metadata": {},
   "source": [
    "# (4) Preenchendo com ARIMA"
   ]
  },
  {
   "cell_type": "code",
   "execution_count": null,
   "metadata": {},
   "outputs": [],
   "source": [
    "# df = pandas.read_csv('../dados/00010391_GLE_CABIL_2P1F_FLOW.csv', engine='python', header=0)\n",
    "# columns = df.keys()\n",
    "\n",
    "# df[columns[0]] = pandas.to_datetime(df[columns[0]])\n",
    "\n",
    "# granularity     = get_granularity(df)\n",
    "# preprocessed_df, label = fill_missing_data(df, granularity, interpolate=False)\n",
    "\n",
    "# #preprocessed_df['data'].replace(0, np.nan, inplace= True)\n",
    "# without_nans=preprocessed_df.dropna()\n",
    "\n",
    "# model = ARIMA(without_nans.data, order=(4,0,1))\n",
    "# model = model.fit()\n",
    "# val = model.predict(start=500, end=1500).values\n",
    "# plt.plot(val, color='b')\n",
    "# plt.plot(without_nans.data[500:1500].values, color='r')\n",
    "# plt.show()\n"
   ]
  },
  {
   "cell_type": "code",
   "execution_count": 295,
   "metadata": {},
   "outputs": [],
   "source": [
    "def missing_data_prediction(dataframe, granularity, model):\n",
    "    # column names\n",
    "    columns = dataframe.keys()\n",
    "    \n",
    "    dates = dataframe[columns[0]]\n",
    "    prev = dates[0]\n",
    "    time = []\n",
    "    data = []\n",
    "    missing_data=0\n",
    "    more_than_one_gap=False\n",
    "    replication_len=100\n",
    "    index_forecasting=0\n",
    "    indexes_dates = dates.index\n",
    "    print(\"dates len: \", len(dates))\n",
    "\n",
    "    for index in indexes_dates[1:len(indexes_dates)-1]:\n",
    "        diff = dates[index] - prev\n",
    "        prev = dates[index]\n",
    "\n",
    "\n",
    "        if not diff.total_seconds() == granularity:\n",
    "            total_steps = diff.total_seconds()\n",
    "            new_data = [dates[index] - datetime.timedelta(seconds=x) for x in range(int(granularity), int(total_steps),int(granularity))]\n",
    "\n",
    "            # incrementando a quantidade de dados faltantes\n",
    "            missing_data+= len(new_data)\n",
    "            if more_than_one_gap:\n",
    "                index_forecasting = index - missing_data\n",
    "            else:\n",
    "                index_forecasting = index\n",
    "            \n",
    "            predictions = model.predict(start=index_forecasting, end=index_forecasting+replication_len).values\n",
    "            predictions = list(predictions) * int(len(new_data)/replication_len)\n",
    "            predictions = predictions[:len(new_data)]\n",
    "\n",
    "            new_data.reverse()\n",
    "            for item in zip(new_data,predictions):\n",
    "                time.append(item[0])\n",
    "                data.append(item[1])\n",
    "            more_than_one_gap=True\n",
    "\n",
    "        time.append(prev)\n",
    "        data.append(dataframe[columns[1]][index])\n",
    "    \n",
    "    # calcular score da serie\n",
    "    score = missing_data/len(data)\n",
    "\n",
    "    label = get_label(score)\n",
    "    \n",
    "    columns = ['time', 'data']\n",
    "    newDataframe = pandas.DataFrame(columns=columns)\n",
    "    \n",
    "    newDataframe.time = time\n",
    "    newDataframe.data = data\n",
    "    \n",
    "    newDataframe.set_index('time')\n",
    "    newDataframe.sort_values(by='time')\n",
    "    \n",
    "    return newDataframe, label\n",
    "    \n",
    "def get_granularity(dataframe):\n",
    "    # column names\n",
    "    columns = dataframe.keys()\n",
    "    \n",
    "    dates = dataframe[columns[0]].values\n",
    "    prev = dates[0]\n",
    "    diffs_counter=dict()\n",
    "\n",
    "    for index in range(1, len(dates)-1):\n",
    "        diff = dates[index] - prev\n",
    "        prev = dates[index]\n",
    "\n",
    "        if int(diff) not in diffs_counter.keys():\n",
    "            diffs_counter[int(diff)]=1\n",
    "        else:\n",
    "            diffs_counter[int(diff)]+=1\n",
    "    \n",
    "    common_diff = list(diffs_counter)[(np.argmax(diffs_counter))]\n",
    "    common_diff = common_diff/1000000000\n",
    "    \n",
    "    return common_diff\n",
    "    "
   ]
  },
  {
   "cell_type": "code",
   "execution_count": 296,
   "metadata": {},
   "outputs": [
    {
     "name": "stderr",
     "output_type": "stream",
     "text": [
      "/usr/local/lib/python3.6/site-packages/statsmodels/tsa/base/tsa_model.py:221: ValueWarning: An unsupported index was provided and will be ignored when e.g. forecasting.\n",
      "  ' ignored when e.g. forecasting.', ValueWarning)\n"
     ]
    },
    {
     "name": "stdout",
     "output_type": "stream",
     "text": [
      "dates len:  8061\n"
     ]
    },
    {
     "data": {
      "image/png": "[encoded data removed]",
      "text/plain": [
       "<Figure size 1296x432 with 1 Axes>"
      ]
     },
     "metadata": {},
     "output_type": "display_data"
    }
   ],
   "source": [
    "### df = pandas.read_csv('../dados/00010391_GLE_CABIL_2P1F_FLOW.csv', engine='python', header=0)\n",
    "columns = df.keys()\n",
    "\n",
    "df[columns[0]] = pandas.to_datetime(df[columns[0]])\n",
    "\n",
    "\n",
    "model = ARIMA(df.data, order=(4,0,1))\n",
    "model = model.fit()\n",
    "\n",
    "df[columns[1]] = df[columns[1]].replace(0, np.nan)\n",
    "df = df[df.data.notnull()]\n",
    "\n",
    "granularity     = get_granularity(df)\n",
    "preprocessed_df, label = missing_data_prediction(df, granularity, model)\n",
    "\n",
    "\n",
    "plt.figure(figsize=(18,6))\n",
    "plt.plot(preprocessed_df.data.values, color='r')\n",
    "plt.show()"
   ]
  },
  {
   "cell_type": "markdown",
   "metadata": {},
   "source": [
    "## s"
   ]
  },
  {
   "cell_type": "code",
   "execution_count": null,
   "metadata": {},
   "outputs": [],
   "source": []
  }
 ],
 "metadata": {
  "kernelspec": {
   "display_name": "Python 3",
   "language": "python",
   "name": "python3"
  },
  "language_info": {
   "codemirror_mode": {
    "name": "ipython",
    "version": 3
   },
   "file_extension": ".py",
   "mimetype": "text/x-python",
   "name": "python",
   "nbconvert_exporter": "python",
   "pygments_lexer": "ipython3",
   "version": "3.6.4"
  }
 },
 "nbformat": 4,
 "nbformat_minor": 2
}
