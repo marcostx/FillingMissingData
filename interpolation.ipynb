{
 "cells": [
  {
   "cell_type": "code",
   "execution_count": 1,
   "metadata": {},
   "outputs": [],
   "source": [
    "%matplotlib inline\n",
    "import pandas\n",
    "import matplotlib.pyplot as plt\n",
    "import datetime\n",
    "\n",
    "import numpy as np"
   ]
  },
  {
   "cell_type": "code",
   "execution_count": 32,
   "metadata": {},
   "outputs": [
    {
     "data": {
      "text/html": [
       "<div>\n",
       "<style scoped>\n",
       "    .dataframe tbody tr th:only-of-type {\n",
       "        vertical-align: middle;\n",
       "    }\n",
       "\n",
       "    .dataframe tbody tr th {\n",
       "        vertical-align: top;\n",
       "    }\n",
       "\n",
       "    .dataframe thead th {\n",
       "        text-align: right;\n",
       "    }\n",
       "</style>\n",
       "<table border=\"1\" class=\"dataframe\">\n",
       "  <thead>\n",
       "    <tr style=\"text-align: right;\">\n",
       "      <th></th>\n",
       "      <th>dateTime</th>\n",
       "      <th>data</th>\n",
       "    </tr>\n",
       "  </thead>\n",
       "  <tbody>\n",
       "    <tr>\n",
       "      <th>0</th>\n",
       "      <td>2017-12-01 00:00:00</td>\n",
       "      <td>1.92</td>\n",
       "    </tr>\n",
       "    <tr>\n",
       "      <th>1</th>\n",
       "      <td>2017-12-01 00:15:00</td>\n",
       "      <td>1.88</td>\n",
       "    </tr>\n",
       "    <tr>\n",
       "      <th>2</th>\n",
       "      <td>2017-12-01 00:30:00</td>\n",
       "      <td>1.76</td>\n",
       "    </tr>\n",
       "    <tr>\n",
       "      <th>3</th>\n",
       "      <td>2017-12-01 00:45:00</td>\n",
       "      <td>1.39</td>\n",
       "    </tr>\n",
       "    <tr>\n",
       "      <th>4</th>\n",
       "      <td>2017-12-01 01:00:00</td>\n",
       "      <td>1.17</td>\n",
       "    </tr>\n",
       "  </tbody>\n",
       "</table>\n",
       "</div>"
      ],
      "text/plain": [
       "              dateTime  data\n",
       "0  2017-12-01 00:00:00  1.92\n",
       "1  2017-12-01 00:15:00  1.88\n",
       "2  2017-12-01 00:30:00  1.76\n",
       "3  2017-12-01 00:45:00  1.39\n",
       "4  2017-12-01 01:00:00  1.17"
      ]
     },
     "execution_count": 32,
     "metadata": {},
     "output_type": "execute_result"
    }
   ],
   "source": [
    "# loading dataset\n",
    "dataframe = pandas.read_csv('../fwddadosdma/41222_DNK_CABIL_CTRLB_FLOW.csv', engine='python', header=0)\n",
    "dataframe.head()"
   ]
  },
  {
   "cell_type": "code",
   "execution_count": 33,
   "metadata": {},
   "outputs": [
    {
     "data": {
      "text/plain": [
       "<matplotlib.axes._subplots.AxesSubplot at 0x10dd5a860>"
      ]
     },
     "execution_count": 33,
     "metadata": {},
     "output_type": "execute_result"
    },
    {
     "data": {
      "image/png": "[encoded data removed]",
      "text/plain": [
       "<Figure size 432x288 with 1 Axes>"
      ]
     },
     "metadata": {},
     "output_type": "display_data"
    }
   ],
   "source": [
    "dataframe.plot()"
   ]
  },
  {
   "cell_type": "code",
   "execution_count": 34,
   "metadata": {},
   "outputs": [],
   "source": [
    "# converting to datetime\n",
    "dataframe['dateTime']= pandas.to_datetime(dataframe['dateTime'])\n"
   ]
  },
  {
   "cell_type": "code",
   "execution_count": 35,
   "metadata": {},
   "outputs": [],
   "source": [
    "dates = dataframe['dateTime']\n",
    "prev = dates[0]\n",
    "diffs_counter=dict()\n",
    "\n",
    "for index in range(1, len(dates)-1):\n",
    "    diff = dates[index] - prev\n",
    "    prev = dates[index]\n",
    "    \n",
    "    if diff.total_seconds() not in diffs_counter.keys():\n",
    "        diffs_counter[diff.total_seconds()]=1\n",
    "    else:\n",
    "        diffs_counter[diff.total_seconds()]+=1\n"
   ]
  },
  {
   "cell_type": "code",
   "execution_count": 36,
   "metadata": {},
   "outputs": [],
   "source": [
    "common_diff = list(diffs_counter)[(np.argmax(diffs_counter))]\n",
    "prev = dates[0]\n",
    "time = []\n",
    "data = []\n",
    "\n",
    "for index in range(1, len(dates)-1):\n",
    "    diff = dates[index] - prev\n",
    "    prev = dates[index]\n",
    "\n",
    "    \n",
    "    if not diff.total_seconds() == common_diff:\n",
    "        total_steps = diff.total_seconds()\n",
    "        new_data = [[dates[index] - datetime.timedelta(seconds=x),np.nan] for x in range(int(common_diff), int(total_steps),int(common_diff))]\n",
    "        new_data.reverse()\n",
    "        for item in new_data:\n",
    "            time.append(item[0])\n",
    "            data.append(item[1])\n",
    "        #nan_data  = [ for x in range(int(common_diff), int(total_steps),int(common_diff))]\n",
    "        \n",
    "    time.append(prev)\n",
    "    data.append(dataframe['data'][index])\n",
    "        "
   ]
  },
  {
   "cell_type": "code",
   "execution_count": 37,
   "metadata": {},
   "outputs": [],
   "source": [
    "columns = ['time', 'data']\n",
    "newDataframe = pandas.DataFrame(columns=columns)"
   ]
  },
  {
   "cell_type": "code",
   "execution_count": 38,
   "metadata": {},
   "outputs": [],
   "source": [
    "newDataframe.time = time\n",
    "newDataframe.data = data"
   ]
  },
  {
   "cell_type": "code",
   "execution_count": 39,
   "metadata": {},
   "outputs": [],
   "source": [
    "newDataframe.set_index('time')\n",
    "newDataframe.sort_values(by='time')\n",
    "newDataframe = newDataframe.interpolate()"
   ]
  },
  {
   "cell_type": "code",
   "execution_count": 40,
   "metadata": {},
   "outputs": [],
   "source": [
    "newDataframe.to_csv('filtered_dataset.csv')"
   ]
  },
  {
   "cell_type": "code",
   "execution_count": null,
   "metadata": {},
   "outputs": [],
   "source": []
  }
 ],
 "metadata": {
  "kernelspec": {
   "display_name": "Python 3",
   "language": "python",
   "name": "python3"
  },
  "language_info": {
   "codemirror_mode": {
    "name": "ipython",
    "version": 3
   },
   "file_extension": ".py",
   "mimetype": "text/x-python",
   "name": "python",
   "nbconvert_exporter": "python",
   "pygments_lexer": "ipython3",
   "version": "3.6.4"
  }
 },
 "nbformat": 4,
 "nbformat_minor": 2
}
